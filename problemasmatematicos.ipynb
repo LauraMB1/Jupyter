{
 "cells": [
  {
   "cell_type": "markdown",
   "id": "dba0bd57-aecf-4f6f-ba2d-6c798b46ed8e",
   "metadata": {},
   "source": [
    "Problema 1: Encontrar la Multiplicación de 2 números."
   ]
  },
  {
   "cell_type": "code",
   "execution_count": 1,
   "id": "c7aeb59c-71ab-4cf6-8d9b-b32e9d62520b",
   "metadata": {},
   "outputs": [
    {
     "data": {
      "text/html": [
       "6"
      ],
      "text/latex": [
       "6"
      ],
      "text/markdown": [
       "6"
      ],
      "text/plain": [
       "[1] 6"
      ]
     },
     "metadata": {},
     "output_type": "display_data"
    }
   ],
   "source": [
    "\n",
    "2 * 3 # Multiplication"
   ]
  },
  {
   "cell_type": "markdown",
   "id": "19a0b8bf-6e85-4f4b-96e5-a7f099f3a296",
   "metadata": {},
   "source": [
    "Problema 2: Encontrar la Sustracción de 2 números."
   ]
  },
  {
   "cell_type": "code",
   "execution_count": 2,
   "id": "a2070c61-853b-4382-b850-706519fb16ec",
   "metadata": {},
   "outputs": [
    {
     "data": {
      "text/html": [
       "3"
      ],
      "text/latex": [
       "3"
      ],
      "text/markdown": [
       "3"
      ],
      "text/plain": [
       "[1] 3"
      ]
     },
     "metadata": {},
     "output_type": "display_data"
    }
   ],
   "source": [
    "\n",
    "4 - 1 # Subtraction"
   ]
  },
  {
   "cell_type": "markdown",
   "id": "6329628a-ec2c-46d5-926a-6b11c6d02a0e",
   "metadata": {},
   "source": [
    "Problema 3: Sumar 2 al número dado."
   ]
  },
  {
   "cell_type": "code",
   "execution_count": 3,
   "id": "274de542-cc08-4640-9539-54850797f650",
   "metadata": {},
   "outputs": [
    {
     "data": {
      "text/html": [
       "3"
      ],
      "text/latex": [
       "3"
      ],
      "text/markdown": [
       "3"
      ],
      "text/plain": [
       "[1] 3"
      ]
     },
     "metadata": {},
     "output_type": "display_data"
    }
   ],
   "source": [
    "a <- 1 # Assigning 1 to the variable called \"a\"\n",
    "a + 2 # Adding 2"
   ]
  },
  {
   "cell_type": "markdown",
   "id": "282e2022-02fe-4efc-bdcc-114e63613ec9",
   "metadata": {},
   "source": [
    "Problema 4: Crear un marco de datos"
   ]
  },
  {
   "cell_type": "code",
   "execution_count": 4,
   "id": "d2db878a-85b0-401b-a5ec-8262698619a4",
   "metadata": {
    "scrolled": true
   },
   "outputs": [
    {
     "name": "stdout",
     "output_type": "stream",
     "text": [
      "  Emp_Name  Job_role\n",
      "1      Jai   Manager\n",
      "2    David Team Lead\n",
      "3  Michael Developer\n"
     ]
    }
   ],
   "source": [
    "df = data.frame(Emp_Name = c(\"Jai\", \"David\", \"Michael\"),\n",
    "                Job_role = c(\"Manager\", \"Team Lead\", \"Developer\" )\n",
    "               )\n",
    "print(df)"
   ]
  },
  {
   "cell_type": "markdown",
   "id": "336d37d9-b697-4871-8cc1-dc2d42ff5460",
   "metadata": {},
   "source": [
    "Problema de Laura"
   ]
  },
  {
   "cell_type": "code",
   "execution_count": 5,
   "id": "1e6146dc-ce89-49df-b283-17d8fc3fde74",
   "metadata": {
    "scrolled": true
   },
   "outputs": [
    {
     "name": "stdout",
     "output_type": "stream",
     "text": [
      "    producto precio oferta\n",
      "1     patata    2.5     7%\n",
      "2    moniato    3.8     2%\n",
      "3  zanahoria   70.0     3%\n",
      "4     tomate    5.7     5%\n",
      "5 col rizada    1.7     3%\n"
     ]
    }
   ],
   "source": [
    "cuadro = data.frame(producto= c(\"patata\", \"moniato\", \"zanahoria\", \"tomate\", \"col rizada\"),\n",
    "                    precio = c( 2.5, 3.8, 70, 5.7,1.70),\n",
    "                    oferta = c( \"7%\", \"2%\",\"3%\", \"5%\", \"3%\" )\n",
    "                    )\n",
    "print(cuadro)\n",
    "                "
   ]
  },
  {
   "cell_type": "code",
   "execution_count": null,
   "id": "a51590c4-7c83-4a7b-adc8-0f6d29735ccf",
   "metadata": {},
   "outputs": [],
   "source": []
  }
 ],
 "metadata": {
  "kernelspec": {
   "display_name": "R",
   "language": "R",
   "name": "ir"
  },
  "language_info": {
   "codemirror_mode": "r",
   "file_extension": ".r",
   "mimetype": "text/x-r-source",
   "name": "R",
   "pygments_lexer": "r",
   "version": "3.6.1"
  }
 },
 "nbformat": 4,
 "nbformat_minor": 5
}
