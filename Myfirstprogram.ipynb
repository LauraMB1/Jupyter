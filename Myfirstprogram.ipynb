{
 "cells": [
  {
   "cell_type": "markdown",
   "id": "df346c37-a19d-4c67-b413-6d5755fcd7e2",
   "metadata": {},
   "source": [
    "# Mi primer programa"
   ]
  },
  {
   "cell_type": "code",
   "execution_count": 2,
   "id": "467a4808-6d52-41c1-a753-ba258227003c",
   "metadata": {},
   "outputs": [
    {
     "data": {
      "text/plain": [
       "1"
      ]
     },
     "execution_count": 2,
     "metadata": {},
     "output_type": "execute_result"
    }
   ],
   "source": [
    "1*1 "
   ]
  },
  {
   "cell_type": "markdown",
   "id": "402263e1-320d-40c2-885f-0f38229d83b7",
   "metadata": {},
   "source": [
    "Problema 1: Encontrar los valores mínimo y máximo."
   ]
  },
  {
   "cell_type": "code",
   "execution_count": 2,
   "id": "02f9489e-c88b-405d-aeb3-3fc202293e60",
   "metadata": {},
   "outputs": [
    {
     "name": "stdout",
     "output_type": "stream",
     "text": [
      "5\n"
     ]
    }
   ],
   "source": [
    "x = min(5, 10, 25)\n",
    "print(x)"
   ]
  },
  {
   "cell_type": "code",
   "execution_count": 3,
   "id": "d5378871-f065-45fa-b8c6-d6c5761c707e",
   "metadata": {},
   "outputs": [
    {
     "name": "stdout",
     "output_type": "stream",
     "text": [
      "25\n"
     ]
    }
   ],
   "source": [
    "\n",
    "y = max(5, 10, 25)\n",
    "print(y)"
   ]
  },
  {
   "cell_type": "markdown",
   "id": "b09028b1-26d3-4ae9-99a0-ab628b6f5011",
   "metadata": {},
   "source": [
    "Problema 2: Encuentra el valor de 4 elevado a la 3."
   ]
  },
  {
   "cell_type": "code",
   "execution_count": 4,
   "id": "cbeda242-58eb-4f5e-bbe3-0ab851b9dfe8",
   "metadata": {},
   "outputs": [
    {
     "name": "stdout",
     "output_type": "stream",
     "text": [
      "64\n"
     ]
    }
   ],
   "source": [
    "x = pow(4, 3)\n",
    "print(x)"
   ]
  },
  {
   "cell_type": "code",
   "execution_count": null,
   "id": "955f23ee-d44d-4616-a56d-9766eefe9655",
   "metadata": {},
   "outputs": [],
   "source": []
  }
 ],
 "metadata": {
  "kernelspec": {
   "display_name": "Python 3 (ipykernel)",
   "language": "python",
   "name": "python3"
  },
  "language_info": {
   "codemirror_mode": {
    "name": "ipython",
    "version": 3
   },
   "file_extension": ".py",
   "mimetype": "text/x-python",
   "name": "python",
   "nbconvert_exporter": "python",
   "pygments_lexer": "ipython3",
   "version": "3.9.21"
  }
 },
 "nbformat": 4,
 "nbformat_minor": 5
}
